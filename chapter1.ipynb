{
 "cells": [
  {
   "cell_type": "markdown",
   "id": "952e4cbc",
   "metadata": {},
   "source": [
    "## Chapter 1: Arrays and Strings"
   ]
  },
  {
   "cell_type": "markdown",
   "id": "fb5443c6",
   "metadata": {},
   "source": [
    "#### 1.1: Is Unique\n",
    "Implement an algorithm to determine if a string has all unique characters. What if you cannot use additional data structures?"
   ]
  },
  {
   "cell_type": "code",
   "execution_count": 49,
   "id": "acd2e431",
   "metadata": {},
   "outputs": [],
   "source": [
    "def isUnique(string: str) -> bool:\n",
    "    # If input value is not a string, return a tuple with an error message and False\n",
    "    if not isinstance(string, str):\n",
    "        return (\"Input value must be a string\", False)\n",
    "    \n",
    "    \n",
    "    string = string.lower() # Convert the string to lowercase\n",
    "    checker = 0 # Initialize a variable to store the bitwise representation of characters in the string\n",
    "    \n",
    "    for char in string:\n",
    "        char_val = ord(char)  # Get the Unicode code point of the character\n",
    "\n",
    "        # Check if the bit at the position 'char_val' is already set in the checker variable\n",
    "        if checker & (1 << char_val) > 0:\n",
    "            return False  # If the bit is set, the character is a duplicate and the string is not unique\n",
    "\n",
    "        # Set the bit at the position 'char_val' in the checker variable\n",
    "        checker |= (1 << char_val)\n",
    "        \n",
    "    return True\n",
    "\n",
    "# Time Complexity: O(n)\n",
    "# Space Complexity: O(1)"
   ]
  },
  {
   "cell_type": "markdown",
   "id": "7a1ed1b6",
   "metadata": {},
   "source": [
    "#### 1.2: Check Permutation: \n",
    "Given two strings,write a method to decide if one is a permutation of the\n",
    "other."
   ]
  },
  {
   "cell_type": "code",
   "execution_count": 29,
   "id": "4a1cae1f",
   "metadata": {},
   "outputs": [],
   "source": [
    "def checkPermutations(str1: str, str2: str) -> bool:\n",
    "    if len(str1) != len(str2): # If the length of the two strings are not equal, return False\n",
    "        return False\n",
    "    \n",
    "    l1, l2 = [0] * 128, [0] * 128 # Create two empty lists of length 128 (to cover all ASCII characters)\n",
    "    \n",
    "    # Iterate through each character in both strings\n",
    "    for i in range(len(str1)):\n",
    "        # Increment the count of the ASCII value of the current character for each string\n",
    "        l1[ord(str1[i])] += 1\n",
    "        l2[ord(str2[i])] += 1\n",
    "        \n",
    "    return l1 == l2 # Return True if the two lists are equal\n",
    "\n",
    "# Time Complexity: O(n)\n",
    "# Space Complexity: O(1)"
   ]
  },
  {
   "cell_type": "markdown",
   "id": "addf9e8b",
   "metadata": {},
   "source": [
    "#### 1.3 URLify: \n",
    "Write a method to replace all spaces in a string with '%20' You may assume that the string has sufficient space at the end to hold the additional characters, and that you are given the \"true\" length of the string. (Note: If implementing in Java, please use a character array so that you can perform this operation in place.)"
   ]
  },
  {
   "cell_type": "code",
   "execution_count": 5,
   "id": "4a0aa52d",
   "metadata": {},
   "outputs": [],
   "source": [
    "def URLify(string: str, length: int) -> str:\n",
    "    url = \"\"  # Initialize an empty string to store the URLified version of the input string\n",
    "    \n",
    "    # Iterate through each character in the input string up to the specified length\n",
    "    for i in range(length):\n",
    "        if string[i] == \" \":  # If the current character is a space\n",
    "            url += \"%20\"  # Append the URL-encoded version of a space (\"%20\") to the URL string\n",
    "        else:\n",
    "            url += string[i]  # Otherwise, append the current character directly to the URL string\n",
    "        \n",
    "    return url  # Return the URLified string\n",
    "\n",
    "# Time Complexity: O(n)\n",
    "# Space Complexity: O(n)"
   ]
  },
  {
   "cell_type": "markdown",
   "id": "35a63565",
   "metadata": {},
   "source": [
    "#### 1.4 Palindrome Permutation: \n",
    "Given a string, write a function to check if it is a permutation of a palin­ drome. A palindrome is a word or phrase that is the same forwards and backwards. A permutation is a rearrangement of letters. The palindrome does not need to be limited to just dictionary words."
   ]
  },
  {
   "cell_type": "code",
   "execution_count": 14,
   "id": "a5dde139",
   "metadata": {},
   "outputs": [],
   "source": [
    "def palindromePermutation(string: str) -> bool:\n",
    "    dict = [0] * 128  # Initialize an array of length 128\n",
    "    string = string.replace(\" \", \"\").lower()  # Remove spaces from the string and convert it to lowercase\n",
    "    loners = 0  # Initialize a counter to keep track of characters with odd occurrences\n",
    "    \n",
    "    # Iterate through each character in the string\n",
    "    for char in string:\n",
    "        # Convert the character to its ASCII value using the ord() function\n",
    "        ascii_val = ord(char)\n",
    "        if dict[ascii_val] == 0:\n",
    "            dict[ascii_val] = 1  # Mark the character as seen\n",
    "            loners += 1  # Increment the loners counter\n",
    "        else:\n",
    "            dict[ascii_val] = 0  # Unmark the character\n",
    "            loners -= 1  # Decrement the loners counter\n",
    "            \n",
    "    # A string can be rearranged to form a palindrome if it has at most one character with an odd occurrence\n",
    "    return loners <= 1\n",
    "\n",
    "# Time Complexity: O(n)\n",
    "# Space Complexity: O(1)"
   ]
  }
 ],
 "metadata": {
  "kernelspec": {
   "display_name": "Python 3 (ipykernel)",
   "language": "python",
   "name": "python3"
  },
  "language_info": {
   "codemirror_mode": {
    "name": "ipython",
    "version": 3
   },
   "file_extension": ".py",
   "mimetype": "text/x-python",
   "name": "python",
   "nbconvert_exporter": "python",
   "pygments_lexer": "ipython3",
   "version": "3.10.8"
  }
 },
 "nbformat": 4,
 "nbformat_minor": 5
}
