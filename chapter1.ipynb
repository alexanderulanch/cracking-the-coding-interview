{
 "cells": [
  {
   "cell_type": "markdown",
   "id": "952e4cbc",
   "metadata": {},
   "source": [
    "## Chapter 1: Arrays and Strings"
   ]
  },
  {
   "cell_type": "markdown",
   "id": "fb5443c6",
   "metadata": {},
   "source": [
    "#### 1.1: Is Unique\n",
    "Implement an algorithm to determine if a string has all unique characters. What if you cannot use additional data structures?"
   ]
  },
  {
   "cell_type": "code",
   "execution_count": 49,
   "id": "acd2e431",
   "metadata": {},
   "outputs": [],
   "source": [
    "def isUnique(string: str) -> bool:\n",
    "    # If input value is not a string, return a tuple with an error message and False\n",
    "    if not isinstance(string, str):\n",
    "        return (\"Input value must be a string\", False)\n",
    "    \n",
    "    \n",
    "    string = string.lower() # Convert the string to lowercase\n",
    "    checker = 0 # Initialize a variable to store the bitwise representation of characters in the string\n",
    "    \n",
    "    for char in string:\n",
    "        char_val = ord(char)  # Get the Unicode code point of the character\n",
    "\n",
    "        # Check if the bit at the position 'char_val' is already set in the checker variable\n",
    "        if checker & (1 << char_val) > 0:\n",
    "            return False  # If the bit is set, the character is a duplicate and the string is not unique\n",
    "\n",
    "        # Set the bit at the position 'char_val' in the checker variable\n",
    "        checker |= (1 << char_val)\n",
    "        \n",
    "    return True\n",
    "\n",
    "# Time Complexity: O(n)\n",
    "# Space Complexity: O(1)"
   ]
  },
  {
   "cell_type": "markdown",
   "id": "7a1ed1b6",
   "metadata": {},
   "source": [
    "#### 1.2: Check Permutation: \n",
    "Given two strings,write a method to decide if one is a permutation of the\n",
    "other."
   ]
  },
  {
   "cell_type": "code",
   "execution_count": 29,
   "id": "4a1cae1f",
   "metadata": {},
   "outputs": [],
   "source": [
    "def checkPermutations(str1: str, str2: str) -> bool:\n",
    "    if len(str1) != len(str2): # If the length of the two strings are not equal, return False\n",
    "        return False\n",
    "    \n",
    "    l1, l2 = [0] * 128, [0] * 128 # Create two empty lists of length 128 (to cover all ASCII characters)\n",
    "    \n",
    "    # Iterate through each character in both strings\n",
    "    for i in range(len(str1)):\n",
    "        # Increment the count of the ASCII value of the current character for each string\n",
    "        l1[ord(str1[i])] += 1\n",
    "        l2[ord(str2[i])] += 1\n",
    "        \n",
    "    return l1 == l2 # Return True if the two lists are equal (i.e. the same characters and frequency of occurrence)\n",
    "\n",
    "# Time Complexity: O(n)\n",
    "# Space Complexity: O(128)"
   ]
  }
 ],
 "metadata": {
  "kernelspec": {
   "display_name": "Python 3 (ipykernel)",
   "language": "python",
   "name": "python3"
  },
  "language_info": {
   "codemirror_mode": {
    "name": "ipython",
    "version": 3
   },
   "file_extension": ".py",
   "mimetype": "text/x-python",
   "name": "python",
   "nbconvert_exporter": "python",
   "pygments_lexer": "ipython3",
   "version": "3.10.8"
  }
 },
 "nbformat": 4,
 "nbformat_minor": 5
}
